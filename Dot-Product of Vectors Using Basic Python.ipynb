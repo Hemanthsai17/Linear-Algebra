{
 "cells": [
  {
   "cell_type": "markdown",
   "id": "190550e6",
   "metadata": {},
   "source": [
    "# Dot-Product of Vectors Using Basic Python"
   ]
  },
  {
   "cell_type": "markdown",
   "id": "f95b5472",
   "metadata": {},
   "source": [
    "## With user input"
   ]
  },
  {
   "cell_type": "code",
   "execution_count": 3,
   "id": "d5dc1383",
   "metadata": {},
   "outputs": [
    {
     "name": "stdout",
     "output_type": "stream",
     "text": [
      "Enter the dimension of your vectors:3\n",
      "Enter the values for first vector:\n",
      "1\n",
      "2\n",
      "3\n",
      "Enter the values for second vector:\n",
      "4\n",
      "5\n",
      "6\n",
      "[4, 10, 18]\n"
     ]
    }
   ],
   "source": [
    "a=[]\n",
    "b=[]\n",
    "r=[]\n",
    "n=int(input(\"Enter the dimension of your vectors:\"))\n",
    "\n",
    "print(\"Enter the values for first vector:\")\n",
    "for i in range(0,n):\n",
    "    a.append(int(input()))\n",
    "\n",
    "print(\"Enter the values for second vector:\")\n",
    "for j in range(0,n):\n",
    "    b.append(int(input()))\n",
    "\n",
    "for k in range(0,n):\n",
    "    r.append(a[k]*b[k])\n",
    "\n",
    "print(r)"
   ]
  },
  {
   "cell_type": "markdown",
   "id": "da931502",
   "metadata": {},
   "source": [
    "## Without user input"
   ]
  },
  {
   "cell_type": "code",
   "execution_count": 6,
   "id": "1d1c3bce",
   "metadata": {},
   "outputs": [
    {
     "name": "stdout",
     "output_type": "stream",
     "text": [
      "[8, 5]\n"
     ]
    }
   ],
   "source": [
    "a=[4,5]\n",
    "b=[2,1]\n",
    "r=[]\n",
    "\n",
    "for k in range(0,2):\n",
    "    r.append(a[k]*b[k])\n",
    "\n",
    "print(r)"
   ]
  },
  {
   "cell_type": "code",
   "execution_count": null,
   "id": "307a444c",
   "metadata": {},
   "outputs": [],
   "source": []
  }
 ],
 "metadata": {
  "kernelspec": {
   "display_name": "Python 3 (ipykernel)",
   "language": "python",
   "name": "python3"
  },
  "language_info": {
   "codemirror_mode": {
    "name": "ipython",
    "version": 3
   },
   "file_extension": ".py",
   "mimetype": "text/x-python",
   "name": "python",
   "nbconvert_exporter": "python",
   "pygments_lexer": "ipython3",
   "version": "3.9.13"
  }
 },
 "nbformat": 4,
 "nbformat_minor": 5
}
