{
 "cells": [
  {
   "cell_type": "markdown",
   "id": "041e226e",
   "metadata": {},
   "source": [
    "# Matrix Addition"
   ]
  },
  {
   "cell_type": "markdown",
   "id": "78923c74",
   "metadata": {},
   "source": [
    "## With user's input"
   ]
  },
  {
   "cell_type": "code",
   "execution_count": 4,
   "id": "c116c751",
   "metadata": {},
   "outputs": [
    {
     "name": "stdout",
     "output_type": "stream",
     "text": [
      "Enter the number of rows of your 1st matrix:1\n",
      "Enter the number of columns of your 1st matrix:1\n",
      "Enter the values row-wise.\n",
      "1\n",
      "This is your 1st matrix.\n",
      "1 \n",
      "Enter the values row-wise for your 2nd matrix.\n",
      "1\n",
      "This is your 2nd matrix.\n",
      "1 \n",
      "Below is th resultant matrix.\n",
      "2 \n"
     ]
    }
   ],
   "source": [
    "def add(matrix1,matrix2,R1,C1):\n",
    "    matrix=[]\n",
    "    for q in range(R1):\n",
    "        k=[]\n",
    "        for w in range(C1):\n",
    "            k.append(matrix1[q][w]+matrix2[q][w])\n",
    "        matrix.append(k)\n",
    "    '''return(matrix)'''\n",
    "    print(\"Below is th resultant matrix.\")\n",
    "    for c in range(R1):\n",
    "        for v in range(C1):\n",
    "            print(matrix[c][v], end = \" \")\n",
    "        print()\n",
    "\n",
    "R1=int(input(\"Enter the number of rows of your 1st matrix:\"))\n",
    "C1=int(input(\"Enter the number of columns of your 1st matrix:\"))\n",
    "\n",
    "matrix1=[]\n",
    "matrix2=[]\n",
    "print(\"Enter the values row-wise.\")\n",
    "\n",
    "for i in range(R1):\n",
    "    x=[]\n",
    "    for j in range(C1):\n",
    "        x.append(int(input()))\n",
    "    matrix1.append(x)\n",
    "\n",
    "print(\"This is your 1st matrix.\")\n",
    "for m in range(R1):\n",
    "    for n in range(C1):\n",
    "        print(matrix1[m][n], end = \" \")\n",
    "    print()\n",
    "\n",
    "print(\"Enter the values row-wise for your 2nd matrix.\")\n",
    "for p in range(R1):\n",
    "    y=[]\n",
    "    for q in range(C1):\n",
    "        y.append(int(input()))\n",
    "    matrix2.append(y)\n",
    "\n",
    "print(\"This is your 2nd matrix.\")\n",
    "for r in range(R1):\n",
    "    for s in range(C1):\n",
    "        print(matrix2[r][s], end = \" \")\n",
    "    print()\n",
    "\n",
    "add(matrix1,matrix2,R1,C1)"
   ]
  },
  {
   "cell_type": "markdown",
   "id": "aec50e93",
   "metadata": {},
   "source": [
    "## Without user's input"
   ]
  },
  {
   "cell_type": "code",
   "execution_count": 5,
   "id": "d46bbb49",
   "metadata": {},
   "outputs": [
    {
     "data": {
      "text/plain": [
       "[[8, 10, 12], [8, 10, 12], [8, 10, 12]]"
      ]
     },
     "execution_count": 5,
     "metadata": {},
     "output_type": "execute_result"
    }
   ],
   "source": [
    "def add(matrix1,matrix2):\n",
    "    matrix=[[0,0,0],[0,0,0],[0,0,0]]\n",
    "    for i in range(3):\n",
    "        for j in range(3):\n",
    "            matrix[i][j]=matrix1[i][j]+matrix2[i][j]\n",
    "    return(matrix)\n",
    "\n",
    "matrix1=[[1,2,3],[4,5,6],[7,8,9]]\n",
    "matrix2=[[7,8,9],[4,5,6],[1,2,3]]\n",
    "add(matrix1,matrix2)"
   ]
  },
  {
   "cell_type": "code",
   "execution_count": null,
   "id": "cdde31b4",
   "metadata": {},
   "outputs": [],
   "source": []
  }
 ],
 "metadata": {
  "kernelspec": {
   "display_name": "Python 3 (ipykernel)",
   "language": "python",
   "name": "python3"
  },
  "language_info": {
   "codemirror_mode": {
    "name": "ipython",
    "version": 3
   },
   "file_extension": ".py",
   "mimetype": "text/x-python",
   "name": "python",
   "nbconvert_exporter": "python",
   "pygments_lexer": "ipython3",
   "version": "3.9.13"
  }
 },
 "nbformat": 4,
 "nbformat_minor": 5
}
