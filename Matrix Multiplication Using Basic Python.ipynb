{
 "cells": [
  {
   "cell_type": "markdown",
   "id": "755d468d",
   "metadata": {},
   "source": [
    "# Matrix Multiplication"
   ]
  },
  {
   "cell_type": "markdown",
   "id": "c2fed177",
   "metadata": {},
   "source": [
    "## Without users input"
   ]
  },
  {
   "cell_type": "code",
   "execution_count": 4,
   "id": "403721f0",
   "metadata": {},
   "outputs": [
    {
     "name": "stdout",
     "output_type": "stream",
     "text": [
      "[114, 160, 60, 27]\n",
      "[74, 97, 73, 14]\n",
      "[119, 157, 112, 23]\n"
     ]
    }
   ],
   "source": [
    "A = [[12, 7, 3],\n",
    "    [4, 5, 6],\n",
    "    [7, 8, 9]]\n",
    " \n",
    "# take a 3x4 matrix   \n",
    "B = [[5, 8, 1, 2],\n",
    "    [6, 7, 3, 0],\n",
    "    [4, 5, 9, 1]]\n",
    "     \n",
    "result = [[0, 0, 0, 0],\n",
    "        [0, 0, 0, 0],\n",
    "        [0, 0, 0, 0]]\n",
    " \n",
    "# iterating by row of A\n",
    "for i in range(len(A)):\n",
    " \n",
    "    # iterating by column by B\n",
    "    for j in range(len(B[0])):\n",
    " \n",
    "        # iterating by rows of B\n",
    "        for k in range(len(B)):\n",
    "            result[i][j] += A[i][k] * B[k][j]\n",
    "for r in result:\n",
    "    print(r)"
   ]
  },
  {
   "cell_type": "markdown",
   "id": "86b715f9",
   "metadata": {},
   "source": [
    "## With users input"
   ]
  },
  {
   "cell_type": "code",
   "execution_count": 3,
   "id": "b73e7ffd",
   "metadata": {},
   "outputs": [
    {
     "name": "stdout",
     "output_type": "stream",
     "text": [
      "Enter number of rows : 2\n",
      "Enter number of columns : 1\n",
      "1\n",
      "2\n",
      "[[1], [2]]\n",
      "Enter number of rows : 1\n",
      "Enter number of columns : 2\n",
      "1\n",
      "2\n",
      "[[1, 2]]\n",
      "[[0, 0], [0, 0]]\n",
      "The Resultant Matrix is :\n",
      "[1, 2]\n",
      "[2, 4]\n"
     ]
    }
   ],
   "source": [
    "import sys\n",
    "\n",
    "A = [ ]\n",
    "n = int(input(\"Enter number of rows : \"))\n",
    "m = int(input(\"Enter number of columns : \"))\n",
    "  \n",
    "for i in range(0, n):\n",
    "    ele=[] #Understand the logic here-personal comment\n",
    "    for j in range(0,m):\n",
    "        ele.append(int(input()))\n",
    "    A.append(ele)\n",
    "\n",
    "print(A)\n",
    "\n",
    "B = [ ]\n",
    "o = int(input(\"Enter number of rows : \"))\n",
    "p = int(input(\"Enter number of columns : \"))\n",
    "\n",
    "if m!=o:\n",
    "    print(\"These matrices cant be multiplied\")\n",
    "    sys.exit()\n",
    "\n",
    "for r in range(0, o):\n",
    "    fle=[] #Understand the logic here-personal comment\n",
    "    for s in range(0,p):\n",
    "        fle.append(int(input()))\n",
    "    B.append(fle)\n",
    "\n",
    "print(B)\n",
    "\n",
    "result = []\n",
    "for i in range(0, n):\n",
    "    rle=[] #Understand the logic here-personal comment\n",
    "    for j in range(0,p):\n",
    "        rle.append(0)\n",
    "    result.append(rle)\n",
    "\n",
    "print(result)\n",
    "\n",
    "for i in range(len(A)):\n",
    "    for j in range(len(B[0])):\n",
    "        for k in range(len(B)):\n",
    "            result[i][j] += A[i][k] * B[k][j] \n",
    "print(\"The Resultant Matrix is :\")\n",
    "for r in result:\n",
    "    print(r)"
   ]
  },
  {
   "cell_type": "code",
   "execution_count": null,
   "id": "67b7803d",
   "metadata": {},
   "outputs": [],
   "source": []
  }
 ],
 "metadata": {
  "kernelspec": {
   "display_name": "Python 3 (ipykernel)",
   "language": "python",
   "name": "python3"
  },
  "language_info": {
   "codemirror_mode": {
    "name": "ipython",
    "version": 3
   },
   "file_extension": ".py",
   "mimetype": "text/x-python",
   "name": "python",
   "nbconvert_exporter": "python",
   "pygments_lexer": "ipython3",
   "version": "3.9.13"
  }
 },
 "nbformat": 4,
 "nbformat_minor": 5
}
