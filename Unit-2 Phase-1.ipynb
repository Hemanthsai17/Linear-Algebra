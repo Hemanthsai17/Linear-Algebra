{
 "cells": [
  {
   "cell_type": "markdown",
   "id": "13aa2a95",
   "metadata": {},
   "source": [
    "# Eigenvalues and Eigenvectors using numpy"
   ]
  },
  {
   "cell_type": "markdown",
   "id": "f2f36cc8",
   "metadata": {},
   "source": [
    "## Eigenvalues"
   ]
  },
  {
   "cell_type": "markdown",
   "id": "4ad342d2",
   "metadata": {},
   "source": [
    "### Without user's input"
   ]
  },
  {
   "cell_type": "code",
   "execution_count": 2,
   "id": "fe8ddccf",
   "metadata": {},
   "outputs": [],
   "source": [
    "import numpy as np"
   ]
  },
  {
   "cell_type": "code",
   "execution_count": 22,
   "id": "1d640325",
   "metadata": {},
   "outputs": [
    {
     "data": {
      "text/plain": [
       "array([ 3.,  1., -1.])"
      ]
     },
     "execution_count": 22,
     "metadata": {},
     "output_type": "execute_result"
    }
   ],
   "source": [
    "matrix1=[[2,1,1],[2,3,4],[-1,-1,-2]]\n",
    "#matrix1=[[1,2],[2,3]]\n",
    "np.linalg.eigvals(matrix1)"
   ]
  },
  {
   "cell_type": "markdown",
   "id": "3005575b",
   "metadata": {},
   "source": [
    "### With user's input"
   ]
  },
  {
   "cell_type": "code",
   "execution_count": 12,
   "id": "817483ec",
   "metadata": {},
   "outputs": [
    {
     "name": "stdout",
     "output_type": "stream",
     "text": [
      "Enter the number of rows of your matrix:3\n",
      "Enter the number of columns of your matrix:3\n",
      "Enter the values row-wise.\n",
      "2\n",
      "1\n",
      "1\n",
      "2\n",
      "3\n",
      "4\n",
      "-1\n",
      "-1\n",
      "-2\n",
      "This is your matrix.\n",
      "2 1 1 \n",
      "2 3 4 \n",
      "-1 -1 -2 \n",
      "Your matix' eigenvalues are [ 3.  1. -1.]\n"
     ]
    }
   ],
   "source": [
    "R1=int(input(\"Enter the number of rows of your matrix:\"))\n",
    "C1=int(input(\"Enter the number of columns of your matrix:\"))\n",
    "\n",
    "matrix1=[]\n",
    "print(\"Enter the values row-wise.\")\n",
    "\n",
    "for i in range(R1):\n",
    "    x=[]\n",
    "    for j in range(C1):\n",
    "        x.append(int(input()))\n",
    "    matrix1.append(x)\n",
    "\n",
    "print(\"This is your matrix.\")\n",
    "for m in range(R1):\n",
    "    for n in range(C1):\n",
    "        print(matrix1[m][n], end = \" \")\n",
    "    print()\n",
    "\n",
    "p=np.linalg.eigvals(matrix1)\n",
    "print(\"Your matix' eigenvalues are\",p)"
   ]
  },
  {
   "cell_type": "markdown",
   "id": "bb8906a2",
   "metadata": {},
   "source": [
    "## Eigenvalues and Eigenvectors"
   ]
  },
  {
   "cell_type": "markdown",
   "id": "1b663359",
   "metadata": {},
   "source": [
    "### Without user's input"
   ]
  },
  {
   "cell_type": "code",
   "execution_count": 20,
   "id": "c9f5de63",
   "metadata": {
    "scrolled": true
   },
   "outputs": [
    {
     "data": {
      "text/plain": [
       "(array([-1.54138127,  4.54138127]),\n",
       " array([[-0.76301998,  0.6463749 ],\n",
       "        [ 0.6463749 ,  0.76301998]]))"
      ]
     },
     "execution_count": 20,
     "metadata": {},
     "output_type": "execute_result"
    }
   ],
   "source": [
    "matrix1=[[1,4],[3,2]]\n",
    "np.linalg.eigh(matrix1)"
   ]
  },
  {
   "cell_type": "markdown",
   "id": "cbea6400",
   "metadata": {},
   "source": [
    "### With user's input"
   ]
  },
  {
   "cell_type": "code",
   "execution_count": 24,
   "id": "1df6ac1e",
   "metadata": {
    "scrolled": true
   },
   "outputs": [
    {
     "name": "stdout",
     "output_type": "stream",
     "text": [
      "Enter the number of rows of your matrix:2\n",
      "Enter the number of columns of your matrix:2\n",
      "Enter the values row-wise.\n",
      "1\n",
      "4\n",
      "3\n",
      "2\n",
      "This is your matrix.\n",
      "1 4 \n",
      "3 2 \n",
      "Your matix' eigenvalues and eigenvectors are.\n"
     ]
    },
    {
     "data": {
      "text/plain": [
       "(array([-1.54138127,  4.54138127]),\n",
       " array([[-0.76301998,  0.6463749 ],\n",
       "        [ 0.6463749 ,  0.76301998]]))"
      ]
     },
     "execution_count": 24,
     "metadata": {},
     "output_type": "execute_result"
    }
   ],
   "source": [
    "R1=int(input(\"Enter the number of rows of your matrix:\"))\n",
    "C1=int(input(\"Enter the number of columns of your matrix:\"))\n",
    "\n",
    "matrix1=[]\n",
    "print(\"Enter the values row-wise.\")\n",
    "\n",
    "for i in range(R1):\n",
    "    x=[]\n",
    "    for j in range(C1):\n",
    "        x.append(int(input()))\n",
    "    matrix1.append(x)\n",
    "\n",
    "print(\"This is your matrix.\")\n",
    "for m in range(R1):\n",
    "    for n in range(C1):\n",
    "        print(matrix1[m][n], end = \" \")\n",
    "    print()\n",
    "\n",
    "print(\"Your matix' eigenvalues and eigenvectors are.\")\n",
    "np.linalg.eigh(matrix1)"
   ]
  },
  {
   "cell_type": "code",
   "execution_count": null,
   "id": "7a86ed45",
   "metadata": {},
   "outputs": [],
   "source": []
  }
 ],
 "metadata": {
  "kernelspec": {
   "display_name": "Python 3 (ipykernel)",
   "language": "python",
   "name": "python3"
  },
  "language_info": {
   "codemirror_mode": {
    "name": "ipython",
    "version": 3
   },
   "file_extension": ".py",
   "mimetype": "text/x-python",
   "name": "python",
   "nbconvert_exporter": "python",
   "pygments_lexer": "ipython3",
   "version": "3.9.13"
  }
 },
 "nbformat": 4,
 "nbformat_minor": 5
}
